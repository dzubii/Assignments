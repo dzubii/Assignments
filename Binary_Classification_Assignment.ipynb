{
  "nbformat": 4,
  "nbformat_minor": 0,
  "metadata": {
    "colab": {
      "name": "Binary Classification Assignment",
      "provenance": [],
      "collapsed_sections": [],
      "include_colab_link": true
    },
    "language_info": {
      "codemirror_mode": {
        "name": "ipython",
        "version": 3
      },
      "file_extension": ".py",
      "mimetype": "text/x-python",
      "name": "python",
      "nbconvert_exporter": "python",
      "pygments_lexer": "ipython3",
      "version": "3.5.2"
    },
    "kernelspec": {
      "name": "python3",
      "display_name": "Python 3"
    },
    "accelerator": "TPU"
  },
  "cells": [
    {
      "cell_type": "markdown",
      "metadata": {
        "id": "view-in-github",
        "colab_type": "text"
      },
      "source": [
        "<a href=\"https://colab.research.google.com/github/dzubii/Assignments/blob/master/Binary_Classification_Assignment.ipynb\" target=\"_parent\"><img src=\"https://colab.research.google.com/assets/colab-badge.svg\" alt=\"Open In Colab\"/></a>"
      ]
    },
    {
      "cell_type": "code",
      "metadata": {
        "id": "8aRNVnQSnkgB",
        "colab_type": "code",
        "outputId": "0e0ccabc-433e-4505-a8e4-93dcb2a21587",
        "colab": {
          "base_uri": "https://localhost:8080/",
          "height": 290
        }
      },
      "source": [
        "!pip install numpy==1.16.1\n",
        "import numpy as np\n",
        "\n",
        "import keras\n",
        "keras.__version__"
      ],
      "execution_count": 0,
      "outputs": [
        {
          "output_type": "stream",
          "text": [
            "Collecting numpy==1.16.1\n",
            "\u001b[?25l  Downloading https://files.pythonhosted.org/packages/f5/bf/4981bcbee43934f0adb8f764a1e70ab0ee5a448f6505bd04a87a2fda2a8b/numpy-1.16.1-cp36-cp36m-manylinux1_x86_64.whl (17.3MB)\n",
            "\u001b[K     |████████████████████████████████| 17.3MB 3.4MB/s \n",
            "\u001b[31mERROR: datascience 0.10.6 has requirement folium==0.2.1, but you'll have folium 0.8.3 which is incompatible.\u001b[0m\n",
            "\u001b[31mERROR: albumentations 0.1.12 has requirement imgaug<0.2.7,>=0.2.5, but you'll have imgaug 0.2.9 which is incompatible.\u001b[0m\n",
            "\u001b[?25hInstalling collected packages: numpy\n",
            "  Found existing installation: numpy 1.16.3\n",
            "    Uninstalling numpy-1.16.3:\n",
            "      Successfully uninstalled numpy-1.16.3\n",
            "Successfully installed numpy-1.16.1\n"
          ],
          "name": "stdout"
        },
        {
          "output_type": "display_data",
          "data": {
            "application/vnd.colab-display-data+json": {
              "pip_warning": {
                "packages": [
                  "numpy"
                ]
              }
            }
          },
          "metadata": {
            "tags": []
          }
        },
        {
          "output_type": "execute_result",
          "data": {
            "text/plain": [
              "'2.2.4'"
            ]
          },
          "metadata": {
            "tags": []
          },
          "execution_count": 8
        }
      ]
    },
    {
      "cell_type": "markdown",
      "metadata": {
        "id": "T12Bxl36nkgI",
        "colab_type": "text"
      },
      "source": [
        "# Classifying movie reviews: a binary classification example\n",
        "\n",
        "This notebook contains the code samples found in Chapter 3, Section 5 of [Deep Learning with Python](https://www.manning.com/books/deep-learning-with-python?a_aid=keras&a_bid=76564dff). Note that the original text features far more content, in particular further explanations and figures: in this notebook, you will only find source code and related comments.\n",
        "\n",
        "----\n",
        "\n",
        "\n",
        "Two-class classification, or binary classification, may be the most widely applied kind of machine learning problem. In this example, we \n",
        "will learn to classify movie reviews into \"positive\" reviews and \"negative\" reviews, just based on the text content of the reviews."
      ]
    },
    {
      "cell_type": "markdown",
      "metadata": {
        "id": "-kanEWJknkgJ",
        "colab_type": "text"
      },
      "source": [
        "## The IMDB dataset\n",
        "\n",
        "\n",
        "We'll be working with \"IMDB dataset\", a set of 50,000 highly-polarized reviews from the Internet Movie Database. They are split into 25,000 \n",
        "reviews for training and 25,000 reviews for testing, each set consisting in 50% negative and 50% positive reviews.\n",
        "\n",
        "Why do we have these two separate training and test sets? You should never test a machine learning model on the same data that you used to \n",
        "train it! Just because a model performs well on its training data doesn't mean that it will perform well on data it has never seen, and \n",
        "what you actually care about is your model's performance on new data (since you already know the labels of your training data -- obviously \n",
        "you don't need your model to predict those). For instance, it is possible that your model could end up merely _memorizing_ a mapping between \n",
        "your training samples and their targets -- which would be completely useless for the task of predicting targets for data never seen before. \n",
        "We will go over this point in much more detail in the next chapter.\n",
        "\n",
        "Just like the MNIST dataset, the IMDB dataset comes packaged with Keras. It has already been preprocessed: the reviews (sequences of words) \n",
        "have been turned into sequences of integers, where each integer stands for a specific word in a dictionary.\n",
        "\n",
        "The following code will load the dataset (when you run it for the first time, about 80MB of data will be downloaded to your machine):"
      ]
    },
    {
      "cell_type": "code",
      "metadata": {
        "id": "U_p5DskMnkgJ",
        "colab_type": "code",
        "outputId": "d0695aa1-2c50-489f-f686-712e1485e51c",
        "colab": {
          "base_uri": "https://localhost:8080/",
          "height": 34
        }
      },
      "source": [
        "from keras.datasets import imdb\n",
        "\n",
        "(train_data, train_labels), (test_data, test_labels) = imdb.load_data(num_words=10000)"
      ],
      "execution_count": 0,
      "outputs": [
        {
          "output_type": "stream",
          "text": [
            "Using TensorFlow backend.\n"
          ],
          "name": "stderr"
        }
      ]
    },
    {
      "cell_type": "markdown",
      "metadata": {
        "id": "CfRiX1rCnkgM",
        "colab_type": "text"
      },
      "source": [
        "\n",
        "The argument `num_words=10000` means that we will only keep the top 10,000 most frequently occurring words in the training data. Rare words \n",
        "will be discarded. This allows us to work with vector data of manageable size.\n",
        "\n",
        "The variables `train_data` and `test_data` are lists of reviews, each review being a list of word indices (encoding a sequence of words). \n",
        "`train_labels` and `test_labels` are lists of 0s and 1s, where 0 stands for \"negative\" and 1 stands for \"positive\":"
      ]
    },
    {
      "cell_type": "code",
      "metadata": {
        "id": "OhzAPtGVnkgM",
        "colab_type": "code",
        "outputId": "7d457c8f-dce9-4b9c-b178-07c76bc24fd1",
        "colab": {
          "base_uri": "https://localhost:8080/",
          "height": 3723
        }
      },
      "source": [
        "train_data[0]"
      ],
      "execution_count": 0,
      "outputs": [
        {
          "output_type": "execute_result",
          "data": {
            "text/plain": [
              "[1,\n",
              " 14,\n",
              " 22,\n",
              " 16,\n",
              " 43,\n",
              " 530,\n",
              " 973,\n",
              " 1622,\n",
              " 1385,\n",
              " 65,\n",
              " 458,\n",
              " 4468,\n",
              " 66,\n",
              " 3941,\n",
              " 4,\n",
              " 173,\n",
              " 36,\n",
              " 256,\n",
              " 5,\n",
              " 25,\n",
              " 100,\n",
              " 43,\n",
              " 838,\n",
              " 112,\n",
              " 50,\n",
              " 670,\n",
              " 2,\n",
              " 9,\n",
              " 35,\n",
              " 480,\n",
              " 284,\n",
              " 5,\n",
              " 150,\n",
              " 4,\n",
              " 172,\n",
              " 112,\n",
              " 167,\n",
              " 2,\n",
              " 336,\n",
              " 385,\n",
              " 39,\n",
              " 4,\n",
              " 172,\n",
              " 4536,\n",
              " 1111,\n",
              " 17,\n",
              " 546,\n",
              " 38,\n",
              " 13,\n",
              " 447,\n",
              " 4,\n",
              " 192,\n",
              " 50,\n",
              " 16,\n",
              " 6,\n",
              " 147,\n",
              " 2025,\n",
              " 19,\n",
              " 14,\n",
              " 22,\n",
              " 4,\n",
              " 1920,\n",
              " 4613,\n",
              " 469,\n",
              " 4,\n",
              " 22,\n",
              " 71,\n",
              " 87,\n",
              " 12,\n",
              " 16,\n",
              " 43,\n",
              " 530,\n",
              " 38,\n",
              " 76,\n",
              " 15,\n",
              " 13,\n",
              " 1247,\n",
              " 4,\n",
              " 22,\n",
              " 17,\n",
              " 515,\n",
              " 17,\n",
              " 12,\n",
              " 16,\n",
              " 626,\n",
              " 18,\n",
              " 2,\n",
              " 5,\n",
              " 62,\n",
              " 386,\n",
              " 12,\n",
              " 8,\n",
              " 316,\n",
              " 8,\n",
              " 106,\n",
              " 5,\n",
              " 4,\n",
              " 2223,\n",
              " 5244,\n",
              " 16,\n",
              " 480,\n",
              " 66,\n",
              " 3785,\n",
              " 33,\n",
              " 4,\n",
              " 130,\n",
              " 12,\n",
              " 16,\n",
              " 38,\n",
              " 619,\n",
              " 5,\n",
              " 25,\n",
              " 124,\n",
              " 51,\n",
              " 36,\n",
              " 135,\n",
              " 48,\n",
              " 25,\n",
              " 1415,\n",
              " 33,\n",
              " 6,\n",
              " 22,\n",
              " 12,\n",
              " 215,\n",
              " 28,\n",
              " 77,\n",
              " 52,\n",
              " 5,\n",
              " 14,\n",
              " 407,\n",
              " 16,\n",
              " 82,\n",
              " 2,\n",
              " 8,\n",
              " 4,\n",
              " 107,\n",
              " 117,\n",
              " 5952,\n",
              " 15,\n",
              " 256,\n",
              " 4,\n",
              " 2,\n",
              " 7,\n",
              " 3766,\n",
              " 5,\n",
              " 723,\n",
              " 36,\n",
              " 71,\n",
              " 43,\n",
              " 530,\n",
              " 476,\n",
              " 26,\n",
              " 400,\n",
              " 317,\n",
              " 46,\n",
              " 7,\n",
              " 4,\n",
              " 2,\n",
              " 1029,\n",
              " 13,\n",
              " 104,\n",
              " 88,\n",
              " 4,\n",
              " 381,\n",
              " 15,\n",
              " 297,\n",
              " 98,\n",
              " 32,\n",
              " 2071,\n",
              " 56,\n",
              " 26,\n",
              " 141,\n",
              " 6,\n",
              " 194,\n",
              " 7486,\n",
              " 18,\n",
              " 4,\n",
              " 226,\n",
              " 22,\n",
              " 21,\n",
              " 134,\n",
              " 476,\n",
              " 26,\n",
              " 480,\n",
              " 5,\n",
              " 144,\n",
              " 30,\n",
              " 5535,\n",
              " 18,\n",
              " 51,\n",
              " 36,\n",
              " 28,\n",
              " 224,\n",
              " 92,\n",
              " 25,\n",
              " 104,\n",
              " 4,\n",
              " 226,\n",
              " 65,\n",
              " 16,\n",
              " 38,\n",
              " 1334,\n",
              " 88,\n",
              " 12,\n",
              " 16,\n",
              " 283,\n",
              " 5,\n",
              " 16,\n",
              " 4472,\n",
              " 113,\n",
              " 103,\n",
              " 32,\n",
              " 15,\n",
              " 16,\n",
              " 5345,\n",
              " 19,\n",
              " 178,\n",
              " 32]"
            ]
          },
          "metadata": {
            "tags": []
          },
          "execution_count": 2
        }
      ]
    },
    {
      "cell_type": "code",
      "metadata": {
        "id": "Td9EUg6EnkgP",
        "colab_type": "code",
        "outputId": "05079d33-3b14-4a90-cd7d-44d8c4f504bd",
        "colab": {
          "base_uri": "https://localhost:8080/",
          "height": 34
        }
      },
      "source": [
        "train_labels[0]"
      ],
      "execution_count": 0,
      "outputs": [
        {
          "output_type": "execute_result",
          "data": {
            "text/plain": [
              "1"
            ]
          },
          "metadata": {
            "tags": []
          },
          "execution_count": 3
        }
      ]
    },
    {
      "cell_type": "markdown",
      "metadata": {
        "id": "VpojUfvLnkgS",
        "colab_type": "text"
      },
      "source": [
        "Since we restricted ourselves to the top 10,000 most frequent words, no word index will exceed 10,000:"
      ]
    },
    {
      "cell_type": "code",
      "metadata": {
        "id": "KTyX_P-GnkgS",
        "colab_type": "code",
        "outputId": "e33316b6-df41-4e21-fe0f-13b2e1352e86",
        "colab": {
          "base_uri": "https://localhost:8080/",
          "height": 34
        }
      },
      "source": [
        "max([max(sequence) for sequence in train_data])"
      ],
      "execution_count": 0,
      "outputs": [
        {
          "output_type": "execute_result",
          "data": {
            "text/plain": [
              "9999"
            ]
          },
          "metadata": {
            "tags": []
          },
          "execution_count": 4
        }
      ]
    },
    {
      "cell_type": "markdown",
      "metadata": {
        "id": "HwbP0JIunkgV",
        "colab_type": "text"
      },
      "source": [
        "For kicks, here's how you can quickly decode one of these reviews back to English words:"
      ]
    },
    {
      "cell_type": "code",
      "metadata": {
        "id": "CYOqr6u8nkgW",
        "colab_type": "code",
        "outputId": "60516221-1531-4804-eef7-2a9ab93f4651",
        "colab": {
          "base_uri": "https://localhost:8080/",
          "height": 51
        }
      },
      "source": [
        "# word_index is a dictionary mapping words to an integer index\n",
        "word_index = imdb.get_word_index()\n",
        "# We reverse it, mapping integer indices to words\n",
        "reverse_word_index = dict([(value, key) for (key, value) in word_index.items()])\n",
        "# We decode the review; note that our indices were offset by 3\n",
        "# because 0, 1 and 2 are reserved indices for \"padding\", \"start of sequence\", and \"unknown\".\n",
        "decoded_review = ' '.join([reverse_word_index.get(i - 3, '?') for i in train_data[0]])"
      ],
      "execution_count": 0,
      "outputs": [
        {
          "output_type": "stream",
          "text": [
            "Downloading data from https://s3.amazonaws.com/text-datasets/imdb_word_index.json\n",
            "1646592/1641221 [==============================] - 0s 0us/step\n"
          ],
          "name": "stdout"
        }
      ]
    },
    {
      "cell_type": "code",
      "metadata": {
        "id": "mQ2sllY1nkgY",
        "colab_type": "code",
        "outputId": "48aa9e26-5893-4c29-e70f-538fba581854",
        "colab": {
          "base_uri": "https://localhost:8080/",
          "height": 54
        }
      },
      "source": [
        "decoded_review"
      ],
      "execution_count": 0,
      "outputs": [
        {
          "output_type": "execute_result",
          "data": {
            "text/plain": [
              "\"? this film was just brilliant casting location scenery story direction everyone's really suited the part they played and you could just imagine being there robert ? is an amazing actor and now the same being director ? father came from the same scottish island as myself so i loved the fact there was a real connection with this film the witty remarks throughout the film were great it was just brilliant so much that i bought the film as soon as it was released for ? and would recommend it to everyone to watch and the fly fishing was amazing really cried at the end it was so sad and you know what they say if you cry at a film it must have been good and this definitely was also ? to the two little boy's that played the ? of norman and paul they were just brilliant children are often left out of the ? list i think because the stars that play them all grown up are such a big profile for the whole film but these children are amazing and should be praised for what they have done don't you think the whole story was so lovely because it was true and was someone's life after all that was shared with us all\""
            ]
          },
          "metadata": {
            "tags": []
          },
          "execution_count": 6
        }
      ]
    },
    {
      "cell_type": "markdown",
      "metadata": {
        "id": "dUHkoy0Znkga",
        "colab_type": "text"
      },
      "source": [
        "## Preparing the data\n",
        "\n",
        "\n",
        "We cannot feed lists of integers into a neural network. We have to turn our lists into tensors. There are two ways we could do that:\n",
        "\n",
        "* We could pad our lists so that they all have the same length, and turn them into an integer tensor of shape `(samples, word_indices)`, \n",
        "then use as first layer in our network a layer capable of handling such integer tensors (the `Embedding` layer, which we will cover in \n",
        "detail later in the book).\n",
        "* We could one-hot-encode our lists to turn them into vectors of 0s and 1s. Concretely, this would mean for instance turning the sequence \n",
        "`[3, 5]` into a 10,000-dimensional vector that would be all-zeros except for indices 3 and 5, which would be ones. Then we could use as \n",
        "first layer in our network a `Dense` layer, capable of handling floating point vector data.\n",
        "\n",
        "We will go with the latter solution. Let's vectorize our data, which we will do manually for maximum clarity:"
      ]
    },
    {
      "cell_type": "code",
      "metadata": {
        "id": "CoORuW3Lnkgb",
        "colab_type": "code",
        "colab": {}
      },
      "source": [
        "import numpy as np\n",
        "\n",
        "def vectorize_sequences(sequences, dimension=10000):\n",
        "    # Create an all-zero matrix of shape (len(sequences), dimension)\n",
        "    results = np.zeros((len(sequences), dimension))\n",
        "    for i, sequence in enumerate(sequences):\n",
        "        results[i, sequence] = 1.  # set specific indices of results[i] to 1s\n",
        "    return results\n",
        "\n",
        "# Our vectorized training data\n",
        "x_train = vectorize_sequences(train_data)\n",
        "# Our vectorized test data\n",
        "x_test = vectorize_sequences(test_data)"
      ],
      "execution_count": 0,
      "outputs": []
    },
    {
      "cell_type": "markdown",
      "metadata": {
        "id": "X9j67vMXnkgd",
        "colab_type": "text"
      },
      "source": [
        "Here's what our samples look like now:"
      ]
    },
    {
      "cell_type": "code",
      "metadata": {
        "id": "F5fO2HOknkgd",
        "colab_type": "code",
        "outputId": "a8f5f6d7-6701-4e22-8364-9462f360bd77",
        "colab": {
          "base_uri": "https://localhost:8080/",
          "height": 34
        }
      },
      "source": [
        "x_train[0]"
      ],
      "execution_count": 0,
      "outputs": [
        {
          "output_type": "execute_result",
          "data": {
            "text/plain": [
              "array([0., 1., 1., ..., 0., 0., 0.])"
            ]
          },
          "metadata": {
            "tags": []
          },
          "execution_count": 8
        }
      ]
    },
    {
      "cell_type": "markdown",
      "metadata": {
        "id": "Lm12xJWknkgg",
        "colab_type": "text"
      },
      "source": [
        "We should also vectorize our labels, which is straightforward:"
      ]
    },
    {
      "cell_type": "code",
      "metadata": {
        "id": "jXxVT4KWnkgh",
        "colab_type": "code",
        "colab": {}
      },
      "source": [
        "# Our vectorized labels\n",
        "y_train = np.asarray(train_labels).astype('float32')\n",
        "y_test = np.asarray(test_labels).astype('float32')"
      ],
      "execution_count": 0,
      "outputs": []
    },
    {
      "cell_type": "markdown",
      "metadata": {
        "id": "47baG9JInkgj",
        "colab_type": "text"
      },
      "source": [
        "Now our data is ready to be fed into a neural network."
      ]
    },
    {
      "cell_type": "markdown",
      "metadata": {
        "id": "-fzJLZ8cnkgk",
        "colab_type": "text"
      },
      "source": [
        "## Building our network\n",
        "\n",
        "\n",
        "Our input data is simply vectors, and our labels are scalars (1s and 0s): this is the easiest setup you will ever encounter. A type of \n",
        "network that performs well on such a problem would be a simple stack of fully-connected (`Dense`) layers with `relu` activations: `Dense(16, \n",
        "activation='relu')`\n",
        "\n",
        "The argument being passed to each `Dense` layer (16) is the number of \"hidden units\" of the layer. What's a hidden unit? It's a dimension \n",
        "in the representation space of the layer. You may remember from the previous chapter that each such `Dense` layer with a `relu` activation implements \n",
        "the following chain of tensor operations:\n",
        "\n",
        "`output = relu(dot(W, input) + b)`\n",
        "\n",
        "Having 16 hidden units means that the weight matrix `W` will have shape `(input_dimension, 16)`, i.e. the dot product with `W` will project the \n",
        "input data onto a 16-dimensional representation space (and then we would add the bias vector `b` and apply the `relu` operation). You can \n",
        "intuitively understand the dimensionality of your representation space as \"how much freedom you are allowing the network to have when \n",
        "learning internal representations\". Having more hidden units (a higher-dimensional representation space) allows your network to learn more \n",
        "complex representations, but it makes your network more computationally expensive and may lead to learning unwanted patterns (patterns that \n",
        "will improve performance on the training data but not on the test data).\n",
        "\n",
        "There are two key architecture decisions to be made about such stack of dense layers:\n",
        "\n",
        "* How many layers to use.\n",
        "* How many \"hidden units\" to chose for each layer.\n",
        "\n",
        "In the next chapter, you will learn formal principles to guide you in making these choices. \n",
        "For the time being, you will have to trust us with the following architecture choice: \n",
        "two intermediate layers with 16 hidden units each, \n",
        "and a third layer which will output the scalar prediction regarding the sentiment of the current review. \n",
        "The intermediate layers will use `relu` as their \"activation function\", \n",
        "and the final layer will use a sigmoid activation so as to output a probability \n",
        "(a score between 0 and 1, indicating how likely the sample is to have the target \"1\", i.e. how likely the review is to be positive). \n",
        "A `relu` (rectified linear unit) is a function meant to zero-out negative values, \n",
        "while a sigmoid \"squashes\" arbitrary values into the `[0, 1]` interval, thus outputting something that can be interpreted as a probability."
      ]
    },
    {
      "cell_type": "markdown",
      "metadata": {
        "id": "jit9vQWAnkgk",
        "colab_type": "text"
      },
      "source": [
        "Here's what our network looks like:\n",
        "\n",
        "![3-layer network](https://s3.amazonaws.com/book.keras.io/img/ch3/3_layer_network.png)"
      ]
    },
    {
      "cell_type": "markdown",
      "metadata": {
        "id": "kmQRAYa9nkgl",
        "colab_type": "text"
      },
      "source": [
        "And here's the Keras implementation, very similar to the MNIST example you saw previously:"
      ]
    },
    {
      "cell_type": "code",
      "metadata": {
        "id": "WbWj_p2dnkgl",
        "colab_type": "code",
        "outputId": "62b170e5-697a-420b-cee7-e0d20ae4d664",
        "colab": {
          "base_uri": "https://localhost:8080/",
          "height": 88
        }
      },
      "source": [
        "from keras import models\n",
        "from keras import layers\n",
        "\n",
        "model = models.Sequential()\n",
        "model.add(layers.Dense(16, activation='relu', input_shape=(10000,)))\n",
        "model.add(layers.Dense(16, activation='relu'))\n",
        "model.add(layers.Dense(1, activation='sigmoid'))"
      ],
      "execution_count": 0,
      "outputs": [
        {
          "output_type": "stream",
          "text": [
            "WARNING:tensorflow:From /usr/local/lib/python3.6/dist-packages/tensorflow/python/framework/op_def_library.py:263: colocate_with (from tensorflow.python.framework.ops) is deprecated and will be removed in a future version.\n",
            "Instructions for updating:\n",
            "Colocations handled automatically by placer.\n"
          ],
          "name": "stdout"
        }
      ]
    },
    {
      "cell_type": "markdown",
      "metadata": {
        "id": "1t8ckaA0nkgn",
        "colab_type": "text"
      },
      "source": [
        "\n",
        "Lastly, we need to pick a loss function and an optimizer. Since we are facing a binary classification problem and the output of our network \n",
        "is a probability (we end our network with a single-unit layer with a sigmoid activation), is it best to use the `binary_crossentropy` loss. \n",
        "It isn't the only viable choice: you could use, for instance, `mean_squared_error`. But crossentropy is usually the best choice when you \n",
        "are dealing with models that output probabilities. Crossentropy is a quantity from the field of Information Theory, that measures the \"distance\" \n",
        "between probability distributions, or in our case, between the ground-truth distribution and our predictions.\n",
        "\n",
        "Here's the step where we configure our model with the `rmsprop` optimizer and the `binary_crossentropy` loss function. Note that we will \n",
        "also monitor accuracy during training."
      ]
    },
    {
      "cell_type": "code",
      "metadata": {
        "id": "sy-WZ49gnkgp",
        "colab_type": "code",
        "colab": {}
      },
      "source": [
        "model.compile(optimizer='rmsprop',\n",
        "              loss='binary_crossentropy',\n",
        "              metrics=['accuracy'])"
      ],
      "execution_count": 0,
      "outputs": []
    },
    {
      "cell_type": "markdown",
      "metadata": {
        "id": "lRDk9hqOnkgr",
        "colab_type": "text"
      },
      "source": [
        "We are passing our optimizer, loss function and metrics as strings, which is possible because `rmsprop`, `binary_crossentropy` and \n",
        "`accuracy` are packaged as part of Keras. Sometimes you may want to configure the parameters of your optimizer, or pass a custom loss \n",
        "function or metric function. This former can be done by passing an optimizer class instance as the `optimizer` argument:"
      ]
    },
    {
      "cell_type": "code",
      "metadata": {
        "id": "_TfMrz4ankgs",
        "colab_type": "code",
        "colab": {}
      },
      "source": [
        "from keras import optimizers\n",
        "\n",
        "model.compile(optimizer=optimizers.RMSprop(lr=0.001),\n",
        "              loss='binary_crossentropy',\n",
        "              metrics=['accuracy'])"
      ],
      "execution_count": 0,
      "outputs": []
    },
    {
      "cell_type": "markdown",
      "metadata": {
        "id": "j1nYPRtHnkgv",
        "colab_type": "text"
      },
      "source": [
        "The latter can be done by passing function objects as the `loss` or `metrics` arguments:"
      ]
    },
    {
      "cell_type": "code",
      "metadata": {
        "id": "QS9bnrqynkgw",
        "colab_type": "code",
        "colab": {}
      },
      "source": [
        "from keras import losses\n",
        "from keras import metrics\n",
        "\n",
        "model.compile(optimizer=optimizers.RMSprop(lr=0.001),\n",
        "              loss=losses.binary_crossentropy,\n",
        "              metrics=[metrics.binary_accuracy])"
      ],
      "execution_count": 0,
      "outputs": []
    },
    {
      "cell_type": "markdown",
      "metadata": {
        "id": "Uw9IBxNDnkgy",
        "colab_type": "text"
      },
      "source": [
        "## Validating our approach\n",
        "\n",
        "In order to monitor during training the accuracy of the model on data that it has never seen before, we will create a \"validation set\" by \n",
        "setting apart 10,000 samples from the original training data:"
      ]
    },
    {
      "cell_type": "code",
      "metadata": {
        "id": "Hr7Dsw82nkg0",
        "colab_type": "code",
        "colab": {}
      },
      "source": [
        "x_val = x_train[:10000]\n",
        "partial_x_train = x_train[10000:]\n",
        "\n",
        "y_val = y_train[:10000]\n",
        "partial_y_train = y_train[10000:]"
      ],
      "execution_count": 0,
      "outputs": []
    },
    {
      "cell_type": "markdown",
      "metadata": {
        "collapsed": true,
        "id": "XDvhwcg5nkg3",
        "colab_type": "text"
      },
      "source": [
        "We will now train our model for 20 epochs (20 iterations over all samples in the `x_train` and `y_train` tensors), in mini-batches of 512 \n",
        "samples. At this same time we will monitor loss and accuracy on the 10,000 samples that we set apart. This is done by passing the \n",
        "validation data as the `validation_data` argument:"
      ]
    },
    {
      "cell_type": "code",
      "metadata": {
        "id": "OPkRR-C0nkg4",
        "colab_type": "code",
        "outputId": "832f34fe-e5b9-4672-a010-7c9c03926c9a",
        "colab": {
          "base_uri": "https://localhost:8080/",
          "height": 785
        }
      },
      "source": [
        "history = model.fit(partial_x_train,\n",
        "                    partial_y_train,\n",
        "                    epochs=20,\n",
        "                    batch_size=512,\n",
        "                    validation_data=(x_val, y_val))"
      ],
      "execution_count": 0,
      "outputs": [
        {
          "output_type": "stream",
          "text": [
            "WARNING:tensorflow:From /usr/local/lib/python3.6/dist-packages/tensorflow/python/ops/math_ops.py:3066: to_int32 (from tensorflow.python.ops.math_ops) is deprecated and will be removed in a future version.\n",
            "Instructions for updating:\n",
            "Use tf.cast instead.\n",
            "Train on 15000 samples, validate on 10000 samples\n",
            "Epoch 1/20\n",
            "15000/15000 [==============================] - 4s 236us/step - loss: 0.5087 - binary_accuracy: 0.7812 - val_loss: 0.3802 - val_binary_accuracy: 0.8686\n",
            "Epoch 2/20\n",
            "15000/15000 [==============================] - 2s 159us/step - loss: 0.3007 - binary_accuracy: 0.9050 - val_loss: 0.3007 - val_binary_accuracy: 0.8894\n",
            "Epoch 3/20\n",
            "15000/15000 [==============================] - 2s 151us/step - loss: 0.2181 - binary_accuracy: 0.9282 - val_loss: 0.3091 - val_binary_accuracy: 0.8711\n",
            "Epoch 4/20\n",
            "15000/15000 [==============================] - 2s 162us/step - loss: 0.1751 - binary_accuracy: 0.9435 - val_loss: 0.2839 - val_binary_accuracy: 0.8837\n",
            "Epoch 5/20\n",
            "15000/15000 [==============================] - 2s 149us/step - loss: 0.1426 - binary_accuracy: 0.9543 - val_loss: 0.2848 - val_binary_accuracy: 0.8865\n",
            "Epoch 6/20\n",
            "15000/15000 [==============================] - 2s 148us/step - loss: 0.1150 - binary_accuracy: 0.9652 - val_loss: 0.3163 - val_binary_accuracy: 0.8776\n",
            "Epoch 7/20\n",
            "15000/15000 [==============================] - 2s 149us/step - loss: 0.0980 - binary_accuracy: 0.9705 - val_loss: 0.3128 - val_binary_accuracy: 0.8846\n",
            "Epoch 8/20\n",
            "15000/15000 [==============================] - 2s 149us/step - loss: 0.0807 - binary_accuracy: 0.9765 - val_loss: 0.3854 - val_binary_accuracy: 0.8653\n",
            "Epoch 9/20\n",
            "15000/15000 [==============================] - 2s 149us/step - loss: 0.0661 - binary_accuracy: 0.9821 - val_loss: 0.3636 - val_binary_accuracy: 0.8782\n",
            "Epoch 10/20\n",
            "15000/15000 [==============================] - 2s 155us/step - loss: 0.0559 - binary_accuracy: 0.9853 - val_loss: 0.3842 - val_binary_accuracy: 0.8790\n",
            "Epoch 11/20\n",
            "15000/15000 [==============================] - 2s 147us/step - loss: 0.0444 - binary_accuracy: 0.9888 - val_loss: 0.4154 - val_binary_accuracy: 0.8776\n",
            "Epoch 12/20\n",
            "15000/15000 [==============================] - 2s 158us/step - loss: 0.0383 - binary_accuracy: 0.9914 - val_loss: 0.4511 - val_binary_accuracy: 0.8692\n",
            "Epoch 13/20\n",
            "15000/15000 [==============================] - 2s 147us/step - loss: 0.0299 - binary_accuracy: 0.9929 - val_loss: 0.4696 - val_binary_accuracy: 0.8731\n",
            "Epoch 14/20\n",
            "15000/15000 [==============================] - 2s 148us/step - loss: 0.0247 - binary_accuracy: 0.9946 - val_loss: 0.5034 - val_binary_accuracy: 0.8718\n",
            "Epoch 15/20\n",
            "15000/15000 [==============================] - 2s 147us/step - loss: 0.0171 - binary_accuracy: 0.9984 - val_loss: 0.5520 - val_binary_accuracy: 0.8678\n",
            "Epoch 16/20\n",
            "15000/15000 [==============================] - 2s 146us/step - loss: 0.0149 - binary_accuracy: 0.9980 - val_loss: 0.5907 - val_binary_accuracy: 0.8664\n",
            "Epoch 17/20\n",
            "15000/15000 [==============================] - 2s 150us/step - loss: 0.0126 - binary_accuracy: 0.9983 - val_loss: 0.6099 - val_binary_accuracy: 0.8681\n",
            "Epoch 18/20\n",
            "15000/15000 [==============================] - 2s 148us/step - loss: 0.0109 - binary_accuracy: 0.9981 - val_loss: 0.6382 - val_binary_accuracy: 0.8682\n",
            "Epoch 19/20\n",
            "15000/15000 [==============================] - 2s 146us/step - loss: 0.0061 - binary_accuracy: 0.9995 - val_loss: 0.7679 - val_binary_accuracy: 0.8524\n",
            "Epoch 20/20\n",
            "15000/15000 [==============================] - 2s 147us/step - loss: 0.0053 - binary_accuracy: 0.9997 - val_loss: 0.7190 - val_binary_accuracy: 0.8635\n"
          ],
          "name": "stdout"
        }
      ]
    },
    {
      "cell_type": "markdown",
      "metadata": {
        "id": "krgGcjxLnkg7",
        "colab_type": "text"
      },
      "source": [
        "On CPU, this will take less than two seconds per epoch -- training is over in 20 seconds. At the end of every epoch, there is a slight pause \n",
        "as the model computes its loss and accuracy on the 10,000 samples of the validation data.\n",
        "\n",
        "Note that the call to `model.fit()` returns a `History` object. This object has a member `history`, which is a dictionary containing data \n",
        "about everything that happened during training. Let's take a look at it:"
      ]
    },
    {
      "cell_type": "code",
      "metadata": {
        "id": "pPGkAaKinkg8",
        "colab_type": "code",
        "outputId": "c4d072f8-c13b-4699-949a-857905fe99b5",
        "colab": {
          "base_uri": "https://localhost:8080/",
          "height": 34
        }
      },
      "source": [
        "history_dict = history.history\n",
        "history_dict.keys()"
      ],
      "execution_count": 0,
      "outputs": [
        {
          "output_type": "execute_result",
          "data": {
            "text/plain": [
              "dict_keys(['val_loss', 'val_binary_accuracy', 'loss', 'binary_accuracy'])"
            ]
          },
          "metadata": {
            "tags": []
          },
          "execution_count": 16
        }
      ]
    },
    {
      "cell_type": "markdown",
      "metadata": {
        "id": "rpp-w8sInkg-",
        "colab_type": "text"
      },
      "source": [
        "It contains 4 entries: one per metric that was being monitored, during training and during validation. Let's use Matplotlib to plot the \n",
        "training and validation loss side by side, as well as the training and validation accuracy:"
      ]
    },
    {
      "cell_type": "code",
      "metadata": {
        "id": "4hvSv6x6nkg-",
        "colab_type": "code",
        "outputId": "ac213fb1-cb20-4928-8ae0-6f2b8b066685",
        "colab": {
          "base_uri": "https://localhost:8080/",
          "height": 295
        }
      },
      "source": [
        "import matplotlib.pyplot as plt\n",
        "\n",
        "binary_accuracy = history.history['binary_accuracy']\n",
        "val_binary_accuracy = history.history['val_binary_accuracy']\n",
        "loss = history.history['loss']\n",
        "val_loss = history.history['val_loss']\n",
        "\n",
        "epochs = range(1, len(binary_accuracy) + 1)\n",
        "\n",
        "# \"bo\" is for \"blue dot\"\n",
        "plt.plot(epochs, loss, 'bo', label='Training loss')\n",
        "# b is for \"solid blue line\"\n",
        "plt.plot(epochs, val_loss, 'b', label='Validation loss')\n",
        "plt.title('Training and validation loss')\n",
        "plt.xlabel('Epochs')\n",
        "plt.ylabel('Loss')\n",
        "plt.legend()\n",
        "\n",
        "plt.show()"
      ],
      "execution_count": 0,
      "outputs": [
        {
          "output_type": "display_data",
          "data": {
            "image/png": "[encoded data removed]",
            "text/plain": [
              "<Figure size 432x288 with 1 Axes>"
            ]
          },
          "metadata": {
            "tags": []
          }
        }
      ]
    },
    {
      "cell_type": "code",
      "metadata": {
        "id": "mpNj0pDOnkhA",
        "colab_type": "code",
        "outputId": "01004d5e-4da9-43a7-bb4e-d03074dc5b03",
        "colab": {
          "base_uri": "https://localhost:8080/",
          "height": 295
        }
      },
      "source": [
        "plt.clf()   # clear figure\n",
        "acc_values = history_dict['binary_accuracy']\n",
        "val_acc_values = history_dict['val_binary_accuracy']\n",
        "\n",
        "plt.plot(epochs, binary_accuracy, 'bo', label='Training acc')\n",
        "plt.plot(epochs, val_binary_accuracy, 'b', label='Validation acc')\n",
        "plt.title('Training and validation accuracy')\n",
        "plt.xlabel('Epochs')\n",
        "plt.ylabel('Loss')\n",
        "plt.legend()\n",
        "\n",
        "plt.show()"
      ],
      "execution_count": 0,
      "outputs": [
        {
          "output_type": "display_data",
          "data": {
            "image/png": "[encoded data removed]",
            "text/plain": [
              "<Figure size 432x288 with 1 Axes>"
            ]
          },
          "metadata": {
            "tags": []
          }
        }
      ]
    },
    {
      "cell_type": "markdown",
      "metadata": {
        "id": "Ee610BGEnkhC",
        "colab_type": "text"
      },
      "source": [
        "\n",
        "The dots are the training loss and accuracy, while the solid lines are the validation loss and accuracy. Note that your own results may vary \n",
        "slightly due to a different random initialization of your network.\n",
        "\n",
        "As you can see, the training loss decreases with every epoch and the training accuracy increases with every epoch. That's what you would \n",
        "expect when running gradient descent optimization -- the quantity you are trying to minimize should get lower with every iteration. But that \n",
        "isn't the case for the validation loss and accuracy: they seem to peak at the fourth epoch. This is an example of what we were warning \n",
        "against earlier: a model that performs better on the training data isn't necessarily a model that will do better on data it has never seen \n",
        "before. In precise terms, what you are seeing is \"overfitting\": after the second epoch, we are over-optimizing on the training data, and we \n",
        "ended up learning representations that are specific to the training data and do not generalize to data outside of the training set.\n",
        "\n",
        "In this case, to prevent overfitting, we could simply stop training after three epochs. In general, there is a range of techniques you can \n",
        "leverage to mitigate overfitting, which we will cover in the next chapter.\n",
        "\n",
        "Let's train a new network from scratch for four epochs, then evaluate it on our test data:"
      ]
    },
    {
      "cell_type": "code",
      "metadata": {
        "id": "JAxJFpHXnkhC",
        "colab_type": "code",
        "outputId": "8213ffc3-3e19-4688-dd46-c37b4cddbfee",
        "colab": {
          "base_uri": "https://localhost:8080/",
          "height": 170
        }
      },
      "source": [
        "model = models.Sequential()\n",
        "model.add(layers.Dense(16, activation='relu', input_shape=(10000,)))\n",
        "model.add(layers.Dense(16, activation='relu'))\n",
        "model.add(layers.Dense(1, activation='sigmoid'))\n",
        "\n",
        "model.compile(optimizer='rmsprop',\n",
        "              loss='binary_crossentropy',\n",
        "              metrics=['accuracy'])\n",
        "\n",
        "model.fit(x_train, y_train, epochs=4, batch_size=512)\n",
        "results = model.evaluate(x_test, y_test)"
      ],
      "execution_count": 0,
      "outputs": [
        {
          "output_type": "stream",
          "text": [
            "Epoch 1/4\n",
            "25000/25000 [==============================] - 3s 116us/step - loss: 0.4737 - acc: 0.8218\n",
            "Epoch 2/4\n",
            "25000/25000 [==============================] - 3s 108us/step - loss: 0.2674 - acc: 0.9092\n",
            "Epoch 3/4\n",
            "25000/25000 [==============================] - 3s 106us/step - loss: 0.2033 - acc: 0.9282\n",
            "Epoch 4/4\n",
            "25000/25000 [==============================] - 3s 107us/step - loss: 0.1716 - acc: 0.9386\n",
            "25000/25000 [==============================] - 3s 122us/step\n"
          ],
          "name": "stdout"
        }
      ]
    },
    {
      "cell_type": "code",
      "metadata": {
        "id": "JeCkDTfankhE",
        "colab_type": "code",
        "outputId": "24b1d2f2-8943-4780-80b5-23fe608ee34d",
        "colab": {
          "base_uri": "https://localhost:8080/",
          "height": 34
        }
      },
      "source": [
        "results"
      ],
      "execution_count": 0,
      "outputs": [
        {
          "output_type": "execute_result",
          "data": {
            "text/plain": [
              "[0.3108411770439148, 0.876]"
            ]
          },
          "metadata": {
            "tags": []
          },
          "execution_count": 20
        }
      ]
    },
    {
      "cell_type": "markdown",
      "metadata": {
        "id": "cVDbOv_xnkhH",
        "colab_type": "text"
      },
      "source": [
        "Our fairly naive approach achieves an accuracy of 88%. With state-of-the-art approaches, one should be able to get close to 95%."
      ]
    },
    {
      "cell_type": "markdown",
      "metadata": {
        "id": "0BcNltwFnkhH",
        "colab_type": "text"
      },
      "source": [
        "## Using a trained network to generate predictions on new data\n",
        "\n",
        "After having trained a network, you will want to use it in a practical setting. You can generate the likelihood of reviews being positive \n",
        "by using the `predict` method:"
      ]
    },
    {
      "cell_type": "code",
      "metadata": {
        "id": "E15tEj4MnkhI",
        "colab_type": "code",
        "outputId": "0e8a10c6-cdcc-47ad-dcb2-4b143fb3d7ce",
        "colab": {
          "base_uri": "https://localhost:8080/",
          "height": 136
        }
      },
      "source": [
        "model.predict(x_test)"
      ],
      "execution_count": 0,
      "outputs": [
        {
          "output_type": "execute_result",
          "data": {
            "text/plain": [
              "array([[0.15967402],\n",
              "       [0.9998522 ],\n",
              "       [0.4017641 ],\n",
              "       ...,\n",
              "       [0.08288673],\n",
              "       [0.04969335],\n",
              "       [0.4598075 ]], dtype=float32)"
            ]
          },
          "metadata": {
            "tags": []
          },
          "execution_count": 21
        }
      ]
    },
    {
      "cell_type": "markdown",
      "metadata": {
        "id": "_yp1uMlHnkhJ",
        "colab_type": "text"
      },
      "source": [
        "As you can see, the network is very confident for some samples (0.99 or more, or 0.01 or less) but less confident for others (0.6, 0.4). \n"
      ]
    },
    {
      "cell_type": "markdown",
      "metadata": {
        "id": "wDyuKA3mnkhK",
        "colab_type": "text"
      },
      "source": [
        "## Further experiments\n",
        "\n",
        "\n",
        "1. We were using 2 hidden layers. Try to use 1 or 3 hidden layers and see how it affects validation and test accuracy.\n",
        "2. Try to use layers with more hidden units or less hidden units: 32 units, 64 units...\n",
        "3. Try to use the `mse` loss function instead of `binary_crossentropy`.\n",
        "4. Try to use the `tanh` activation (an activation that was popular in the early days of neural networks) instead of `relu`.\n",
        "\n",
        "These experiments will help convince you that the architecture choices we have made are all fairly reasonable, although they can still be \n",
        "improved!"
      ]
    },
    {
      "cell_type": "markdown",
      "metadata": {
        "id": "oOEKMUw4k9rK",
        "colab_type": "text"
      },
      "source": [
        "### **1.**"
      ]
    },
    {
      "cell_type": "code",
      "metadata": {
        "id": "ARqP1nuzkwqw",
        "colab_type": "code",
        "colab": {}
      },
      "source": [
        "# 1 hidden layer:\n",
        "\n",
        "model_one_hidden_layer = models.Sequential()\n",
        "model_one_hidden_layer.add(layers.Dense(16, activation='relu', input_shape=(10000,)))\n",
        "model_one_hidden_layer.add(layers.Dense(1, activation='sigmoid'))\n",
        "\n",
        "model_one_hidden_layer.compile(optimizer='rmsprop',\n",
        "              loss='binary_crossentropy',\n",
        "              metrics=['accuracy'])"
      ],
      "execution_count": 0,
      "outputs": []
    },
    {
      "cell_type": "code",
      "metadata": {
        "id": "3S25VNNsly2I",
        "colab_type": "code",
        "outputId": "bf96dc1e-99c4-4d79-d71c-3e10dab8c478",
        "colab": {
          "base_uri": "https://localhost:8080/",
          "height": 170
        }
      },
      "source": [
        "history_one_hidden_layer = model_one_hidden_layer.fit(partial_x_train,\n",
        "                    partial_y_train,\n",
        "                    epochs=4,\n",
        "                    batch_size=512,\n",
        "                    validation_data=(x_val, y_val))"
      ],
      "execution_count": 0,
      "outputs": [
        {
          "output_type": "stream",
          "text": [
            "Train on 15000 samples, validate on 10000 samples\n",
            "Epoch 1/4\n",
            "15000/15000 [==============================] - 3s 189us/step - loss: 0.4870 - acc: 0.7919 - val_loss: 0.3727 - val_acc: 0.8734\n",
            "Epoch 2/4\n",
            "15000/15000 [==============================] - 2s 149us/step - loss: 0.3023 - acc: 0.9055 - val_loss: 0.3292 - val_acc: 0.8727\n",
            "Epoch 3/4\n",
            "15000/15000 [==============================] - 2s 149us/step - loss: 0.2339 - acc: 0.9269 - val_loss: 0.2928 - val_acc: 0.8853\n",
            "Epoch 4/4\n",
            "15000/15000 [==============================] - 2s 147us/step - loss: 0.1926 - acc: 0.9405 - val_loss: 0.2762 - val_acc: 0.8911\n"
          ],
          "name": "stdout"
        }
      ]
    },
    {
      "cell_type": "code",
      "metadata": {
        "id": "qVyabMC2nPjx",
        "colab_type": "code",
        "outputId": "f67a8b1e-dfde-4ea3-80cc-46e688828e38",
        "colab": {
          "base_uri": "https://localhost:8080/",
          "height": 187
        }
      },
      "source": [
        "model_one_hidden_layer.fit(x_train, y_train, epochs=4, batch_size=512)\n",
        "results = model_one_hidden_layer.evaluate(x_test, y_test)\n",
        "results"
      ],
      "execution_count": 0,
      "outputs": [
        {
          "output_type": "stream",
          "text": [
            "Epoch 1/4\n",
            "25000/25000 [==============================] - 3s 104us/step - loss: 0.2078 - acc: 0.9260\n",
            "Epoch 2/4\n",
            "25000/25000 [==============================] - 3s 105us/step - loss: 0.1753 - acc: 0.9400\n",
            "Epoch 3/4\n",
            "25000/25000 [==============================] - 3s 110us/step - loss: 0.1555 - acc: 0.9473\n",
            "Epoch 4/4\n",
            "25000/25000 [==============================] - 3s 109us/step - loss: 0.1402 - acc: 0.9529\n",
            "25000/25000 [==============================] - 3s 110us/step\n"
          ],
          "name": "stdout"
        },
        {
          "output_type": "execute_result",
          "data": {
            "text/plain": [
              "[0.3210986744880676, 0.87432]"
            ]
          },
          "metadata": {
            "tags": []
          },
          "execution_count": 38
        }
      ]
    },
    {
      "cell_type": "code",
      "metadata": {
        "id": "pzRlG_wNpz-s",
        "colab_type": "code",
        "colab": {}
      },
      "source": [
        "# 3 hidden layers:\n",
        "\n",
        "model_three_hidden_layers = models.Sequential()\n",
        "model_three_hidden_layers.add(layers.Dense(16, activation='relu', input_shape=(10000,)))\n",
        "model_three_hidden_layers.add(layers.Dense(16, activation='relu'))\n",
        "model_three_hidden_layers.add(layers.Dense(16, activation='relu'))\n",
        "model_three_hidden_layers.add(layers.Dense(1, activation='sigmoid'))\n",
        "\n",
        "model_three_hidden_layers.compile(optimizer='rmsprop',\n",
        "              loss='binary_crossentropy',\n",
        "              metrics=['accuracy'])"
      ],
      "execution_count": 0,
      "outputs": []
    },
    {
      "cell_type": "code",
      "metadata": {
        "id": "j6FxhmICqf87",
        "colab_type": "code",
        "outputId": "d718969a-b943-451a-ae96-e4bd8e0070dc",
        "colab": {
          "base_uri": "https://localhost:8080/",
          "height": 170
        }
      },
      "source": [
        "history_three_hidden_layers = model_three_hidden_layers.fit(partial_x_train,\n",
        "                    partial_y_train,\n",
        "                    epochs=4,\n",
        "                    batch_size=512,\n",
        "                    validation_data=(x_val, y_val))"
      ],
      "execution_count": 0,
      "outputs": [
        {
          "output_type": "stream",
          "text": [
            "Train on 15000 samples, validate on 10000 samples\n",
            "Epoch 1/4\n",
            "15000/15000 [==============================] - 4s 291us/step - loss: 0.5776 - acc: 0.7705 - val_loss: 0.4507 - val_acc: 0.8668\n",
            "Epoch 2/4\n",
            "15000/15000 [==============================] - 3s 181us/step - loss: 0.3572 - acc: 0.8955 - val_loss: 0.3416 - val_acc: 0.8699\n",
            "Epoch 3/4\n",
            "15000/15000 [==============================] - 3s 182us/step - loss: 0.2452 - acc: 0.9196 - val_loss: 0.3075 - val_acc: 0.8731\n",
            "Epoch 4/4\n",
            "15000/15000 [==============================] - 3s 180us/step - loss: 0.1864 - acc: 0.9394 - val_loss: 0.2739 - val_acc: 0.8897\n"
          ],
          "name": "stdout"
        }
      ]
    },
    {
      "cell_type": "code",
      "metadata": {
        "id": "kden7qIKrFCA",
        "colab_type": "code",
        "outputId": "db036ddf-ca96-439b-c807-cb787b33caa4",
        "colab": {
          "base_uri": "https://localhost:8080/",
          "height": 187
        }
      },
      "source": [
        "model_three_hidden_layers.fit(x_train, y_train, epochs=4, batch_size=512)\n",
        "results = model_three_hidden_layers.evaluate(x_test, y_test)\n",
        "results"
      ],
      "execution_count": 0,
      "outputs": [
        {
          "output_type": "stream",
          "text": [
            "Epoch 1/4\n",
            "25000/25000 [==============================] - 3s 130us/step - loss: 0.2005 - acc: 0.9255\n",
            "Epoch 2/4\n",
            "25000/25000 [==============================] - 3s 129us/step - loss: 0.1672 - acc: 0.9387\n",
            "Epoch 3/4\n",
            "25000/25000 [==============================] - 3s 128us/step - loss: 0.1405 - acc: 0.9502\n",
            "Epoch 4/4\n",
            "25000/25000 [==============================] - 3s 130us/step - loss: 0.1260 - acc: 0.9552\n",
            "25000/25000 [==============================] - 2s 80us/step\n"
          ],
          "name": "stdout"
        },
        {
          "output_type": "execute_result",
          "data": {
            "text/plain": [
              "[0.40123207294464114, 0.86444]"
            ]
          },
          "metadata": {
            "tags": []
          },
          "execution_count": 54
        }
      ]
    },
    {
      "cell_type": "markdown",
      "metadata": {
        "id": "tMbG8sdbrU_z",
        "colab_type": "text"
      },
      "source": [
        "### **2.**"
      ]
    },
    {
      "cell_type": "code",
      "metadata": {
        "id": "Ch7GBAGosKml",
        "colab_type": "code",
        "colab": {}
      },
      "source": [
        "# Using 2 hidden layers and 32 units:\n",
        "\n",
        "model_two_hidden_layers = models.Sequential()\n",
        "model_two_hidden_layers.add(layers.Dense(32, activation='relu', input_shape=(10000,)))\n",
        "model_two_hidden_layers.add(layers.Dense(32, activation='relu'))\n",
        "model_two_hidden_layers.add(layers.Dense(1, activation='sigmoid'))\n",
        "\n",
        "model_two_hidden_layers.compile(optimizer='rmsprop',\n",
        "              loss='binary_crossentropy',\n",
        "              metrics=['accuracy'])"
      ],
      "execution_count": 0,
      "outputs": []
    },
    {
      "cell_type": "code",
      "metadata": {
        "id": "PWxUMbJescTO",
        "colab_type": "code",
        "outputId": "de959f15-14fc-44db-b6ee-066638c4e404",
        "colab": {
          "base_uri": "https://localhost:8080/",
          "height": 170
        }
      },
      "source": [
        "history_two_hidden_layers = model_two_hidden_layers.fit(partial_x_train,\n",
        "                    partial_y_train,\n",
        "                    epochs=4,\n",
        "                    batch_size=512,\n",
        "                    validation_data=(x_val, y_val))"
      ],
      "execution_count": 0,
      "outputs": [
        {
          "output_type": "stream",
          "text": [
            "Train on 15000 samples, validate on 10000 samples\n",
            "Epoch 1/4\n",
            "15000/15000 [==============================] - 3s 228us/step - loss: 0.4914 - acc: 0.7799 - val_loss: 0.3447 - val_acc: 0.8790\n",
            "Epoch 2/4\n",
            "15000/15000 [==============================] - 3s 191us/step - loss: 0.2818 - acc: 0.9011 - val_loss: 0.2849 - val_acc: 0.8898\n",
            "Epoch 3/4\n",
            "15000/15000 [==============================] - 3s 195us/step - loss: 0.1985 - acc: 0.9336 - val_loss: 0.2849 - val_acc: 0.8867\n",
            "Epoch 4/4\n",
            "15000/15000 [==============================] - 3s 196us/step - loss: 0.1562 - acc: 0.9460 - val_loss: 0.2795 - val_acc: 0.8912\n"
          ],
          "name": "stdout"
        }
      ]
    },
    {
      "cell_type": "code",
      "metadata": {
        "id": "iRMuYldzs6d5",
        "colab_type": "code",
        "outputId": "bb3ac81b-f341-45df-8f5f-fe3023b82dc3",
        "colab": {
          "base_uri": "https://localhost:8080/",
          "height": 187
        }
      },
      "source": [
        "model_two_hidden_layers.fit(x_train, y_train, epochs=4, batch_size=512)\n",
        "results = model_two_hidden_layers.evaluate(x_test, y_test)\n",
        "results"
      ],
      "execution_count": 0,
      "outputs": [
        {
          "output_type": "stream",
          "text": [
            "Epoch 1/4\n",
            "25000/25000 [==============================] - 3s 139us/step - loss: 0.1948 - acc: 0.9280\n",
            "Epoch 2/4\n",
            "25000/25000 [==============================] - 3s 140us/step - loss: 0.1552 - acc: 0.9454\n",
            "Epoch 3/4\n",
            "25000/25000 [==============================] - 3s 139us/step - loss: 0.1325 - acc: 0.9525\n",
            "Epoch 4/4\n",
            "25000/25000 [==============================] - 4s 142us/step - loss: 0.1106 - acc: 0.9614\n",
            "25000/25000 [==============================] - 2s 96us/step\n"
          ],
          "name": "stdout"
        },
        {
          "output_type": "execute_result",
          "data": {
            "text/plain": [
              "[0.39054039739608765, 0.86496]"
            ]
          },
          "metadata": {
            "tags": []
          },
          "execution_count": 57
        }
      ]
    },
    {
      "cell_type": "code",
      "metadata": {
        "id": "EJTN12PwtIMA",
        "colab_type": "code",
        "colab": {}
      },
      "source": [
        "# Using 2 hidden layers and 64 units:\n",
        "\n",
        "model_two_hidden_layers = models.Sequential()\n",
        "model_two_hidden_layers.add(layers.Dense(64, activation='relu', input_shape=(10000,)))\n",
        "model_two_hidden_layers.add(layers.Dense(64, activation='relu'))\n",
        "model_two_hidden_layers.add(layers.Dense(1, activation='sigmoid'))\n",
        "\n",
        "model_two_hidden_layers.compile(optimizer='rmsprop',\n",
        "              loss='binary_crossentropy',\n",
        "              metrics=['accuracy'])"
      ],
      "execution_count": 0,
      "outputs": []
    },
    {
      "cell_type": "code",
      "metadata": {
        "id": "9X5OWpSRtTdh",
        "colab_type": "code",
        "outputId": "7f6324fc-09f6-425f-9518-2a51443eb4ce",
        "colab": {
          "base_uri": "https://localhost:8080/",
          "height": 170
        }
      },
      "source": [
        "history_two_hidden_layers = model_two_hidden_layers.fit(partial_x_train,\n",
        "                    partial_y_train,\n",
        "                    epochs=4,\n",
        "                    batch_size=512,\n",
        "                    validation_data=(x_val, y_val))"
      ],
      "execution_count": 0,
      "outputs": [
        {
          "output_type": "stream",
          "text": [
            "Train on 15000 samples, validate on 10000 samples\n",
            "Epoch 1/4\n",
            "15000/15000 [==============================] - 4s 260us/step - loss: 0.4922 - acc: 0.7585 - val_loss: 0.3673 - val_acc: 0.8501\n",
            "Epoch 2/4\n",
            "15000/15000 [==============================] - 3s 221us/step - loss: 0.2668 - acc: 0.9005 - val_loss: 0.2963 - val_acc: 0.8796\n",
            "Epoch 3/4\n",
            "15000/15000 [==============================] - 3s 220us/step - loss: 0.1897 - acc: 0.9321 - val_loss: 0.2804 - val_acc: 0.8875\n",
            "Epoch 4/4\n",
            "15000/15000 [==============================] - 3s 222us/step - loss: 0.1435 - acc: 0.9488 - val_loss: 0.3168 - val_acc: 0.8757\n"
          ],
          "name": "stdout"
        }
      ]
    },
    {
      "cell_type": "code",
      "metadata": {
        "id": "HhFR9iaRtc6f",
        "colab_type": "code",
        "outputId": "05d03712-b8a6-4035-9d78-6da6c8096cca",
        "colab": {
          "base_uri": "https://localhost:8080/",
          "height": 187
        }
      },
      "source": [
        "model_two_hidden_layers.fit(x_train, y_train, epochs=4, batch_size=512)\n",
        "results = model_two_hidden_layers.evaluate(x_test, y_test)\n",
        "results"
      ],
      "execution_count": 0,
      "outputs": [
        {
          "output_type": "stream",
          "text": [
            "Epoch 1/4\n",
            "25000/25000 [==============================] - 4s 161us/step - loss: 0.1884 - acc: 0.9314\n",
            "Epoch 2/4\n",
            "25000/25000 [==============================] - 4s 161us/step - loss: 0.1397 - acc: 0.9484\n",
            "Epoch 3/4\n",
            "25000/25000 [==============================] - 4s 161us/step - loss: 0.1064 - acc: 0.9608\n",
            "Epoch 4/4\n",
            "25000/25000 [==============================] - 4s 163us/step - loss: 0.0680 - acc: 0.9787\n",
            "25000/25000 [==============================] - 3s 113us/step\n"
          ],
          "name": "stdout"
        },
        {
          "output_type": "execute_result",
          "data": {
            "text/plain": [
              "[0.6402031883049011, 0.83088]"
            ]
          },
          "metadata": {
            "tags": []
          },
          "execution_count": 60
        }
      ]
    },
    {
      "cell_type": "markdown",
      "metadata": {
        "id": "IqDE2kCWtiu9",
        "colab_type": "text"
      },
      "source": [
        "### 3. "
      ]
    },
    {
      "cell_type": "code",
      "metadata": {
        "id": "I0nh3agp8ccB",
        "colab_type": "code",
        "colab": {}
      },
      "source": [
        "# 2 hidden layers with the mse loss function\n",
        "\n",
        "model_two_hidden_layers = models.Sequential()\n",
        "model_two_hidden_layers.add(layers.Dense(64, activation='relu', input_shape=(10000,)))\n",
        "model_two_hidden_layers.add(layers.Dense(64, activation='relu'))\n",
        "model_two_hidden_layers.add(layers.Dense(1, activation='sigmoid'))\n",
        "\n",
        "model_two_hidden_layers.compile(optimizer='rmsprop',\n",
        "              loss='mse',\n",
        "              metrics=['accuracy'])"
      ],
      "execution_count": 0,
      "outputs": []
    },
    {
      "cell_type": "code",
      "metadata": {
        "id": "RviH3-M88pHO",
        "colab_type": "code",
        "outputId": "bef47b49-f0ef-4edc-f87e-e81b5fac16a6",
        "colab": {
          "base_uri": "https://localhost:8080/",
          "height": 170
        }
      },
      "source": [
        "history_two_hidden_layers = model_two_hidden_layers.fit(partial_x_train,\n",
        "                    partial_y_train,\n",
        "                    epochs=4,\n",
        "                    batch_size=512,\n",
        "                    validation_data=(x_val, y_val))"
      ],
      "execution_count": 0,
      "outputs": [
        {
          "output_type": "stream",
          "text": [
            "Train on 15000 samples, validate on 10000 samples\n",
            "Epoch 1/4\n",
            "15000/15000 [==============================] - 4s 247us/step - loss: 0.1593 - acc: 0.7806 - val_loss: 0.1124 - val_acc: 0.8471\n",
            "Epoch 2/4\n",
            "15000/15000 [==============================] - 3s 219us/step - loss: 0.0801 - acc: 0.9016 - val_loss: 0.0850 - val_acc: 0.8865\n",
            "Epoch 3/4\n",
            "15000/15000 [==============================] - 3s 225us/step - loss: 0.0549 - acc: 0.9303 - val_loss: 0.0850 - val_acc: 0.8849\n",
            "Epoch 4/4\n",
            "15000/15000 [==============================] - 3s 225us/step - loss: 0.0406 - acc: 0.9518 - val_loss: 0.0902 - val_acc: 0.8780\n"
          ],
          "name": "stdout"
        }
      ]
    },
    {
      "cell_type": "code",
      "metadata": {
        "id": "1dIlJykG87CC",
        "colab_type": "code",
        "outputId": "8fddb718-ab77-487f-c57f-0def86dc7d6a",
        "colab": {
          "base_uri": "https://localhost:8080/",
          "height": 187
        }
      },
      "source": [
        "model_two_hidden_layers.fit(x_train, y_train, epochs=4, batch_size=512)\n",
        "results = model_two_hidden_layers.evaluate(x_test, y_test)\n",
        "results"
      ],
      "execution_count": 0,
      "outputs": [
        {
          "output_type": "stream",
          "text": [
            "Epoch 1/4\n",
            "25000/25000 [==============================] - 4s 161us/step - loss: 0.0569 - acc: 0.9260\n",
            "Epoch 2/4\n",
            "25000/25000 [==============================] - 4s 158us/step - loss: 0.0402 - acc: 0.9509\n",
            "Epoch 3/4\n",
            "25000/25000 [==============================] - 4s 159us/step - loss: 0.0309 - acc: 0.9624\n",
            "Epoch 4/4\n",
            "25000/25000 [==============================] - 4s 161us/step - loss: 0.0232 - acc: 0.9732\n",
            "25000/25000 [==============================] - 3s 115us/step\n"
          ],
          "name": "stdout"
        },
        {
          "output_type": "execute_result",
          "data": {
            "text/plain": [
              "[0.09888996989130974, 0.8718]"
            ]
          },
          "metadata": {
            "tags": []
          },
          "execution_count": 63
        }
      ]
    },
    {
      "cell_type": "markdown",
      "metadata": {
        "id": "Xuuooi7H9F5J",
        "colab_type": "text"
      },
      "source": [
        "### 4. "
      ]
    },
    {
      "cell_type": "code",
      "metadata": {
        "id": "MpQKnv8k9IMj",
        "colab_type": "code",
        "colab": {}
      },
      "source": [
        "# 2 hidden layers (loss: binary_crossentropy) with tanh activation:\n",
        "\n",
        "model_two_hidden_layers = models.Sequential()\n",
        "model_two_hidden_layers.add(layers.Dense(64, activation='tanh', input_shape=(10000,)))\n",
        "model_two_hidden_layers.add(layers.Dense(64, activation='tanh'))\n",
        "model_two_hidden_layers.add(layers.Dense(1, activation='sigmoid'))\n",
        "\n",
        "model_two_hidden_layers.compile(optimizer='rmsprop',\n",
        "              loss='binary_crossentropy',\n",
        "              metrics=['accuracy'])"
      ],
      "execution_count": 0,
      "outputs": []
    },
    {
      "cell_type": "code",
      "metadata": {
        "id": "upEtL0eE9g35",
        "colab_type": "code",
        "outputId": "100a4b97-48f5-4f60-ca1f-8c8eb46b1304",
        "colab": {
          "base_uri": "https://localhost:8080/",
          "height": 170
        }
      },
      "source": [
        "history_two_hidden_layers = model_two_hidden_layers.fit(partial_x_train,\n",
        "                    partial_y_train,\n",
        "                    epochs=4,\n",
        "                    batch_size=512,\n",
        "                    validation_data=(x_val, y_val))"
      ],
      "execution_count": 0,
      "outputs": [
        {
          "output_type": "stream",
          "text": [
            "Train on 15000 samples, validate on 10000 samples\n",
            "Epoch 1/4\n",
            "15000/15000 [==============================] - 4s 271us/step - loss: 0.4484 - acc: 0.7965 - val_loss: 0.3190 - val_acc: 0.8664\n",
            "Epoch 2/4\n",
            "15000/15000 [==============================] - 3s 224us/step - loss: 0.2299 - acc: 0.9125 - val_loss: 0.2871 - val_acc: 0.8821\n",
            "Epoch 3/4\n",
            "15000/15000 [==============================] - 3s 223us/step - loss: 0.1679 - acc: 0.9366 - val_loss: 0.3344 - val_acc: 0.8756\n",
            "Epoch 4/4\n",
            "15000/15000 [==============================] - 3s 222us/step - loss: 0.1315 - acc: 0.9508 - val_loss: 0.3261 - val_acc: 0.8798\n"
          ],
          "name": "stdout"
        }
      ]
    },
    {
      "cell_type": "code",
      "metadata": {
        "id": "dr6Bv6gS9jax",
        "colab_type": "code",
        "outputId": "d6299d99-b815-4b25-f5a6-5dba2f75a10d",
        "colab": {
          "base_uri": "https://localhost:8080/",
          "height": 187
        }
      },
      "source": [
        "model_two_hidden_layers.fit(x_train, y_train, epochs=4, batch_size=512)\n",
        "results = model_two_hidden_layers.evaluate(x_test, y_test)\n",
        "results"
      ],
      "execution_count": 0,
      "outputs": [
        {
          "output_type": "stream",
          "text": [
            "Epoch 1/4\n",
            "25000/25000 [==============================] - 4s 169us/step - loss: 0.1949 - acc: 0.9270\n",
            "Epoch 2/4\n",
            "25000/25000 [==============================] - 4s 166us/step - loss: 0.1598 - acc: 0.9408\n",
            "Epoch 3/4\n",
            "25000/25000 [==============================] - 4s 167us/step - loss: 0.1345 - acc: 0.9484\n",
            "Epoch 4/4\n",
            "25000/25000 [==============================] - 4s 163us/step - loss: 0.1194 - acc: 0.9559\n",
            "25000/25000 [==============================] - 3s 130us/step\n"
          ],
          "name": "stdout"
        },
        {
          "output_type": "execute_result",
          "data": {
            "text/plain": [
              "[0.3923566378355026, 0.8642]"
            ]
          },
          "metadata": {
            "tags": []
          },
          "execution_count": 66
        }
      ]
    },
    {
      "cell_type": "markdown",
      "metadata": {
        "id": "XVYsJZRCnkhK",
        "colab_type": "text"
      },
      "source": [
        "## Conclusions\n",
        "\n",
        "\n",
        "Here's what you should take away from this example:\n",
        "\n",
        "* There's usually quite a bit of preprocessing you need to do on your raw data in order to be able to feed it -- as tensors -- into a neural \n",
        "network. In the case of sequences of words, they can be encoded as binary vectors -- but there are other encoding options too.\n",
        "* Stacks of `Dense` layers with `relu` activations can solve a wide range of problems (including sentiment classification), and you will \n",
        "likely use them frequently.\n",
        "* In a binary classification problem (two output classes), your network should end with a `Dense` layer with 1 unit and a `sigmoid` activation, \n",
        "i.e. the output of your network should be a scalar between 0 and 1, encoding a probability.\n",
        "* With such a scalar sigmoid output, on a binary classification problem, the loss function you should use is `binary_crossentropy`.\n",
        "* The `rmsprop` optimizer is generally a good enough choice of optimizer, whatever your problem. That's one less thing for you to worry \n",
        "about.\n",
        "* As they get better on their training data, neural networks eventually start _overfitting_ and end up obtaining increasingly worse results on data \n",
        "never-seen-before. Make sure to always monitor performance on data that is outside of the training set.\n"
      ]
    }
  ]
}