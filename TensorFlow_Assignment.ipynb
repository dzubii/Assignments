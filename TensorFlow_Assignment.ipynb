{
  "nbformat": 4,
  "nbformat_minor": 0,
  "metadata": {
    "colab": {
      "name": "TensorFlow Assignment.ipynb",
      "provenance": [],
      "collapsed_sections": [],
      "include_colab_link": true
    },
    "language_info": {
      "codemirror_mode": {
        "name": "ipython",
        "version": 3
      },
      "file_extension": ".py",
      "mimetype": "text/x-python",
      "name": "python",
      "nbconvert_exporter": "python",
      "pygments_lexer": "ipython3",
      "version": "3.7.0"
    },
    "kernelspec": {
      "display_name": "Python 3",
      "language": "python",
      "name": "python3"
    }
  },
  "cells": [
    {
      "cell_type": "markdown",
      "metadata": {
        "id": "view-in-github",
        "colab_type": "text"
      },
      "source": [
        "<a href=\"https://colab.research.google.com/github/dzubii/Assignments/blob/master/TensorFlow_Assignment.ipynb\" target=\"_parent\"><img src=\"https://colab.research.google.com/assets/colab-badge.svg\" alt=\"Open In Colab\"/></a>"
      ]
    },
    {
      "cell_type": "markdown",
      "metadata": {
        "id": "PjLkYtpuvCqm",
        "colab_type": "text"
      },
      "source": [
        "### Your name:\n",
        "\n",
        "<pre> David Zubicek</pre>\n",
        "\n",
        "### Collaborators:\n",
        "\n",
        "<pre> Enter the name of the people you worked with if any</pre>\n"
      ]
    },
    {
      "cell_type": "code",
      "metadata": {
        "id": "kWjluI26vCqn",
        "colab_type": "code",
        "colab": {}
      },
      "source": [
        "import os\n",
        "import numpy as np\n",
        "import matplotlib.pyplot as plt\n",
        "import tensorflow as tf\n",
        "import datetime\n",
        "\n",
        "%matplotlib inline\n",
        "from sklearn.datasets import make_moons\n",
        "from sklearn.model_selection import train_test_split\n",
        "from sklearn.preprocessing import StandardScaler, PolynomialFeatures\n",
        "from sklearn.metrics import confusion_matrix\n",
        "plt.rcParams['axes.labelsize'] = 14\n",
        "plt.rcParams['xtick.labelsize'] = 12\n",
        "plt.rcParams['ytick.labelsize'] = 12\n"
      ],
      "execution_count": 0,
      "outputs": []
    },
    {
      "cell_type": "markdown",
      "metadata": {
        "id": "jI9ghmuRvCqu",
        "colab_type": "text"
      },
      "source": [
        "### TensorFlow"
      ]
    },
    {
      "cell_type": "markdown",
      "metadata": {
        "id": "JrIr2W9fvCqv",
        "colab_type": "text"
      },
      "source": [
        "Q1. When is a variable initialized? When is it destroyed?"
      ]
    },
    {
      "cell_type": "markdown",
      "metadata": {
        "id": "R_bARmluvCqv",
        "colab_type": "text"
      },
      "source": [
        "A variable is initialized by calling the tf.global_variables_initializer() function. A variable is destroyed when the session ends."
      ]
    },
    {
      "cell_type": "markdown",
      "metadata": {
        "id": "kcsqXn26vCqw",
        "colab_type": "text"
      },
      "source": [
        "Q2. What is the difference between a placeholder and a variable?"
      ]
    },
    {
      "cell_type": "markdown",
      "metadata": {
        "id": "ziJt-8_KvCqx",
        "colab_type": "text"
      },
      "source": [
        "A TensorFlow variable can be initialized and modified. A placeholder does not require initialization. A placeholder allocates a block of memory."
      ]
    },
    {
      "cell_type": "markdown",
      "metadata": {
        "id": "3RCNqMXEvCqx",
        "colab_type": "text"
      },
      "source": [
        "Q3. How many times does reverse-mode autodiff need to traverse the graph in order to compute the gradients of the cost function with regards to 10 variables? What about forward-mode autodiff? And symbolic differentiation?"
      ]
    },
    {
      "cell_type": "markdown",
      "metadata": {
        "id": "22SIE8jZvCqy",
        "colab_type": "text"
      },
      "source": [
        "2 times. 6 times for forward-mode. "
      ]
    },
    {
      "cell_type": "markdown",
      "metadata": {
        "id": "3bKWuTeSvCqy",
        "colab_type": "text"
      },
      "source": [
        "Q4. Implement Logistic Regression with Mini-batch Gradient Descent using TensorFlow. Train it and evaluate it on the moons dataset (introduced in Chapter 5). Try adding all the bells and whistles:\n",
        "\n",
        "- Define the graph within a logistic_regression() function that can be reused easily.\n",
        "\n",
        "- Save checkpoints using a Saver at regular intervals during training, and save the final model at the end of training.\n",
        "\n",
        "- Restore the last checkpoint upon startup if training was interrupted.\n",
        "\n",
        "- Define the graph using name scopes so the graph looks good in TensorBoard.\n",
        "\n",
        "- Add summaries to visualize the learning curves in TensorBoard.\n",
        "\n",
        "- Try tweaking some hyperparameters such as the learning rate or the mini-batch size and look at the shape of the learning curve."
      ]
    },
    {
      "cell_type": "code",
      "metadata": {
        "id": "xmKcA_bGvCqz",
        "colab_type": "code",
        "outputId": "eb3d0c31-d24f-477b-9db2-e24ab0c1627d",
        "colab": {
          "base_uri": "https://localhost:8080/",
          "height": 425
        }
      },
      "source": [
        "size = 1000\n",
        "X_moons, y_moons = make_moons(size, noise=0.05, random_state=42)\n",
        "\n",
        "print(X_moons.shape)\n",
        "print(y_moons.shape)\n",
        "print(X_moons)\n",
        "\n",
        "X = X_moons[:,0]\n",
        "Y = X_moons[:,1]\n",
        "plt.scatter(X, Y, c=y_moons)\n",
        "plt.show()"
      ],
      "execution_count": 0,
      "outputs": [
        {
          "output_type": "stream",
          "text": [
            "(1000, 2)\n",
            "(1000,)\n",
            "[[-0.02137124  0.40618608]\n",
            " [ 0.97670045 -0.45832306]\n",
            " [ 0.90405882 -0.37651952]\n",
            " ...\n",
            " [ 1.66258462 -0.3079193 ]\n",
            " [-0.94355873  0.3278936 ]\n",
            " [ 0.79419406  0.60777171]]\n"
          ],
          "name": "stdout"
        },
        {
          "output_type": "display_data",
          "data": {
            "image/png": "[encoded data removed]",
            "text/plain": [
              "<Figure size 432x288 with 1 Axes>"
            ]
          },
          "metadata": {
            "tags": []
          }
        }
      ]
    },
    {
      "cell_type": "code",
      "metadata": {
        "id": "T73vkQSZvCq2",
        "colab_type": "code",
        "colab": {}
      },
      "source": [
        "X_train, X_test, Y_train, Y_test = train_test_split(X_moons, y_moons, test_size=0.2)\n",
        "\n",
        "Y_train = Y_train.reshape(-1, 1)\n",
        "Y_test = Y_test.reshape(-1, 1)\n",
        "\n",
        "X_train = np.c_[np.ones(X_train.shape[0]), X_train]\n",
        "X_test = np.c_[np.ones(X_test.shape[0]), X_test]\n",
        "\n",
        "scaler = StandardScaler()\n",
        "X_train = scaler.fit_transform(X_train)\n",
        "X_test = scaler.fit_transform(X_test)\n",
        "\n",
        "n, m =  X_train.shape\n",
        "X_ph = tf.placeholder(tf.float32, shape=(None, m), name=\"X\")\n",
        "Y_ph = tf.placeholder(tf.float32, shape=(None, 1), name=\"Y\")\n",
        "theta = tf.Variable(tf.random_uniform([m, 1], -1, 1), name=\"theta\")\n",
        "\n",
        "y_est = tf.matmul(X_ph, theta , name=\"estimation\")\n",
        "\n",
        "proba = tf.sigmoid(y_est)\n",
        "\n",
        "loss = tf.losses.log_loss(Y_ph, proba)\n",
        "\n",
        "learning_rate = 0.01\n",
        "optimizer = tf.train.GradientDescentOptimizer(learning_rate=learning_rate)\n",
        "training_op = optimizer.minimize(loss)\n",
        "\n",
        "def random_batch(X_train, y_train, batch_size):\n",
        "    \"\"\" this create a batch of X and Y of size \"batch_size\" \"\"\"\n",
        "    rnd_indices = np.random.randint(0, len(X_train), batch_size)\n",
        "    X_batch = X_train[rnd_indices]\n",
        "    y_batch = y_train[rnd_indices]\n",
        "    return X_batch, y_batch\n",
        "\n",
        "def reset_graph(seed=42):\n",
        "    \"\"\"Simple function to clear tf\"\"\"\n",
        "    tf.reset_default_graph()\n",
        "    tf.set_random_seed(seed)\n",
        "    np.random.seed(seed)"
      ],
      "execution_count": 0,
      "outputs": []
    },
    {
      "cell_type": "code",
      "metadata": {
        "id": "LKTINV6hvhXQ",
        "colab_type": "code",
        "outputId": "950ba656-25aa-4872-fd8d-5b56292e9917",
        "colab": {
          "base_uri": "https://localhost:8080/",
          "height": 1006
        }
      },
      "source": [
        "sess = tf.InteractiveSession()\n",
        "\n",
        "init = tf.global_variables_initializer()\n",
        "\n",
        "n_epochs = 1000\n",
        "batch_size = 50\n",
        "n_batches = int(np.ceil(n / batch_size))\n",
        "\n",
        "sess.run(init)\n",
        "\n",
        "for epoch in range(n_epochs):\n",
        "    for batch_index in range(n_batches):\n",
        "        X_batch, y_batch = random_batch(X_train, Y_train, batch_size)\n",
        "        sess.run(training_op, feed_dict={X_ph: X_batch, Y_ph: y_batch})\n",
        "    loss_val = loss.eval({X_ph: X_test, Y_ph: Y_test})\n",
        "    if epoch % 100 == 0:\n",
        "        print(\"Epoch:\", epoch, \"\\tLoss:\", loss_val)\n",
        "        print(theta.eval())\n",
        "\n",
        "        bias = np.zeros(100)\n",
        "X1 = np.linspace(-2, 2, 100)\n",
        "Y1 = -1.5*np.ones(100)\n",
        "X_eval = np.c_[bias, Y1, X1]\n",
        "y_proba_val = proba.eval(feed_dict={X_ph: X_eval})\n",
        "plt.scatter(X1, y_proba_val)\n",
        "plt.show()"
      ],
      "execution_count": 0,
      "outputs": [
        {
          "output_type": "stream",
          "text": [
            "/usr/local/lib/python3.6/dist-packages/tensorflow/python/client/session.py:1702: UserWarning: An interactive session is already active. This can cause out-of-memory errors in some cases. You must explicitly call `InteractiveSession.close()` to release resources held by the other session(s).\n",
            "  warnings.warn('An interactive session is already active. This can '\n"
          ],
          "name": "stderr"
        },
        {
          "output_type": "stream",
          "text": [
            "Epoch: 0 \tLoss: 0.5090386\n",
            "[[ 0.94279623]\n",
            " [-0.20823918]\n",
            " [-0.7482585 ]]\n",
            "Epoch: 100 \tLoss: 0.25382397\n",
            "[[ 0.94279623]\n",
            " [ 0.8824503 ]\n",
            " [-1.997832  ]]\n",
            "Epoch: 200 \tLoss: 0.24338877\n",
            "[[ 0.94279623]\n",
            " [ 1.0071361 ]\n",
            " [-2.3922782 ]]\n",
            "Epoch: 300 \tLoss: 0.23995842\n",
            "[[ 0.94279623]\n",
            " [ 1.0335313 ]\n",
            " [-2.6076574 ]]\n",
            "Epoch: 400 \tLoss: 0.23847374\n",
            "[[ 0.94279623]\n",
            " [ 1.0523429 ]\n",
            " [-2.7496786 ]]\n",
            "Epoch: 500 \tLoss: 0.23764183\n",
            "[[ 0.94279623]\n",
            " [ 1.058134  ]\n",
            " [-2.8433378 ]]\n",
            "Epoch: 600 \tLoss: 0.23715736\n",
            "[[ 0.94279623]\n",
            " [ 1.059676  ]\n",
            " [-2.9046702 ]]\n",
            "Epoch: 700 \tLoss: 0.23722698\n",
            "[[ 0.94279623]\n",
            " [ 1.0784224 ]\n",
            " [-2.9498918 ]]\n",
            "Epoch: 800 \tLoss: 0.23680192\n",
            "[[ 0.94279623]\n",
            " [ 1.0693264 ]\n",
            " [-2.9850307 ]]\n",
            "Epoch: 900 \tLoss: 0.23683113\n",
            "[[ 0.94279623]\n",
            " [ 1.0769717 ]\n",
            " [-3.0079572 ]]\n"
          ],
          "name": "stdout"
        },
        {
          "output_type": "display_data",
          "data": {
            "image/png": "[encoded data removed]",
            "text/plain": [
              "<Figure size 432x288 with 1 Axes>"
            ]
          },
          "metadata": {
            "tags": []
          }
        }
      ]
    },
    {
      "cell_type": "code",
      "metadata": {
        "id": "Anqu_wvmvtIC",
        "colab_type": "code",
        "outputId": "c50523e2-2127-4495-9a94-fd396c04bab9",
        "colab": {
          "base_uri": "https://localhost:8080/",
          "height": 272
        }
      },
      "source": [
        "y_proba_val = proba.eval(feed_dict={X_ph: X_test})\n",
        "y_proba_bool = (y_proba_val >= 0.5)\n",
        "\n",
        "X = X_test[:,1]\n",
        "Y = X_test[:,2]\n",
        "comparator = (y_proba_bool == Y_test)\n",
        "m = {True : \"o\", False : \"x\"}\n",
        "comparator = np.vectorize(m.get)(comparator)\n",
        "n = {0 : \"green\", 1 : \"yellow\"}\n",
        "colors = np.vectorize(n.get)(Y_test)\n",
        "\n",
        "for x, y, c, m in zip(X, Y, colors, comparator):\n",
        "    plt.scatter(x, y, c=c[0], marker = m[0])    \n",
        "plt.show()"
      ],
      "execution_count": 0,
      "outputs": [
        {
          "output_type": "display_data",
          "data": {
            "image/png": "[encoded data removed]",
            "text/plain": [
              "<Figure size 432x288 with 1 Axes>"
            ]
          },
          "metadata": {
            "tags": []
          }
        }
      ]
    },
    {
      "cell_type": "markdown",
      "metadata": {
        "id": "vfLEaNeYvCq4",
        "colab_type": "text"
      },
      "source": [
        "Q5. Similar to the linear regression implementation in class, write a lasso regression implementation. Use the same dataset, and choose a value for the penalty $\\alpha$:\n",
        "\n",
        "Using a Saver at regular intervals during training, and save the final model at the end of training.\n",
        "\n",
        "Restore the last checkpoint upon startup if training was interrupted.\n",
        "\n",
        "Define the graph using name scopes so the graph looks good in TensorBoard.\n",
        "\n",
        "Add summaries to visualize the learning curves in TensorBoard.\n",
        "\n",
        "Try tweaking some hyperparameters such as the learning rate or the mini-batch size and look at the shape of the learning curve."
      ]
    },
    {
      "cell_type": "code",
      "metadata": {
        "id": "ta-CpruDvCq5",
        "colab_type": "code",
        "colab": {}
      },
      "source": [
        "#Code here"
      ],
      "execution_count": 0,
      "outputs": []
    },
    {
      "cell_type": "code",
      "metadata": {
        "id": "-_ficOghvCq7",
        "colab_type": "code",
        "colab": {}
      },
      "source": [
        "#Code here"
      ],
      "execution_count": 0,
      "outputs": []
    },
    {
      "cell_type": "code",
      "metadata": {
        "id": "9wGDKB-8vCq9",
        "colab_type": "code",
        "colab": {}
      },
      "source": [
        "#Code here"
      ],
      "execution_count": 0,
      "outputs": []
    },
    {
      "cell_type": "code",
      "metadata": {
        "id": "FQbpGf7gvCrB",
        "colab_type": "code",
        "colab": {}
      },
      "source": [
        ""
      ],
      "execution_count": 0,
      "outputs": []
    }
  ]
}